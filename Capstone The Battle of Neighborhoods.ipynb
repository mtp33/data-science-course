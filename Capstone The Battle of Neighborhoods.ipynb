{
 "cells": [
  {
   "cell_type": "markdown",
   "id": "composite-jerusalem",
   "metadata": {},
   "source": [
    "# <center>Capstone Project - The Battle of Neighborhoods</center> "
   ]
  },
  {
   "cell_type": "markdown",
   "id": "exotic-window",
   "metadata": {},
   "source": [
    "## 1. Introduction/Business Problem"
   ]
  },
  {
   "cell_type": "markdown",
   "id": "front-sacramento",
   "metadata": {},
   "source": [
    "### Background: Foursquare"
   ]
  },
  {
   "cell_type": "markdown",
   "id": "pleased-february",
   "metadata": {},
   "source": [
    "Foursquare Labs Inc., commonly known as [Foursquare](https://foursquare.com/), is an American technology company. The company's location platform is the foundation of several business and consumer products, including the [Foursquare City Guide](https://foursquare.com/city-guide) and [Foursquare Swarm](https://www.swarmapp.com/) apps.\n",
    "Foursquare built a massive dataset of location through crowd-sourcing their data and had people use their app to build their dataset and add venues and complete any missing information they had in their dataset. Communicating with the Foursquare\n",
    "database is really very easy, all thanks to their RESTful API. You simply create a uniform resource identifier, or URI, and you append it with extra parameters depending on the data that you are seeking from the database. Any call request you make is composed of, we can call this base URI, which is _api.foursquare.com/v2_ and you can request data about venues, users, or tips. But, every time you make a call request, you have to pass your developer account credentials, which are your Client ID and Client Secret as well as what is called the version of the API, which is simply a date."
   ]
  },
  {
   "cell_type": "markdown",
   "id": "elect-donor",
   "metadata": {},
   "source": [
    "### Background: Nottingham, UK"
   ]
  },
  {
   "cell_type": "markdown",
   "id": "linear-diagnosis",
   "metadata": {},
   "source": [
    "[Nottingham](https://en.wikipedia.org/wiki/Nottingham) is a city and unitary authority area in Nottinghamshire, England. Part of the East Midlands region, it is 128 miles (206 km) north of London and 45 miles (72 km) northeast of Birmingham.\n",
    "<img src=\"https://previews.123rf.com/images/yurkaimmortal/yurkaimmortal1303/yurkaimmortal130300023/18386260-nottingham-england-skyline-city-silhouette.jpg\"  width=400 height = 400/>\n",
    "\n",
    "Nottingham has links to the legend of Robin Hood and to the lace-making, bicycle (notably Raleigh bikes) and tobacco industries. Nottingham is a popular tourist destination. In 2020, Nottingham had an estimated population of 330,000. The wider conurbation, which includes many of the city's suburbs, has a population of 768,638."
   ]
  },
  {
   "cell_type": "markdown",
   "id": "danish-guinea",
   "metadata": {},
   "source": [
    "### Business Problem"
   ]
  },
  {
   "cell_type": "markdown",
   "id": "dietary-capacity",
   "metadata": {},
   "source": [
    "Nottinhgam city center is very lively with a wide offer of food and entrainment venues, while other areas of the city are also becoming more popular. However, historic data and observations in the city center suggest that there is a very high turn-over among newly opened venues and many of them shut relatively soon after opening. At the same time, there are several exmamples of venues in different categories that have become very successful and established.<br><br>\n",
    "This poses a critical question for potential new owners and investors: **Is there any link between the area and the type of venue that will be successful?**\n",
    "\n",
    "The target audience of this case study are existing and prospective new owners of restaurants, bars, arcades, food vans, snack shops and many other types of venues in the food and leisure industry. This case study can inform them which areas of Nottingham might be the best fit for opening their business ideas as well as where there is already a high concentration of similar business, such that there may be a stronger competition.\n",
    "\n",
    "As a data science project, this case study may also reveal new insights from data, which have not been known and noticed before."
   ]
  },
  {
   "cell_type": "markdown",
   "id": "revised-english",
   "metadata": {},
   "source": [
    "## 2. Data"
   ]
  },
  {
   "cell_type": "markdown",
   "id": "vulnerable-value",
   "metadata": {},
   "source": [
    "A combination of different datasets will be used to explore the suggested business problem. In order to address the questions outlined in the previous section, a collection of data is required about:\n",
    "- venue category or type\n",
    "- its location\n",
    "- how long it operated\n",
    "- how popular it was or is\n",
    "\n",
    "It is proposed to use Foursquare location, reviews and check-ins data to dervie the features above. The location data associated with venues can be obtained directly from the Foursquare dataset, which then can be used for spatial clustering. It is more challenging to evaluate how long a venue operatated, as it must be recognised that the venue may be __currently open and active__ or __already out of business and shut down__.\n",
    "\n",
    "To deal with this problem, the following method is proposed:\n",
    "1. Obtain the most recent review/check-in date for the venue - this is the **START DATE**\n",
    "2. If this date is within the last 3 months, the venue is labelled as **ACTIVE**. If this date is older than the last 3 months, the venue is labelled as **INACTIVE**\n",
    "3. Obtain the oldest reveiew/check-in for the venue - this is the **END DATE**\n",
    "4. Calculate the differecene between the start date and the end date - this is the **OPERATION LENGTH**\n",
    "\n",
    "\n",
    "The final part is to evaluate the how popular the vanues was or is. For this, the following values should be extracted:\n",
    "1. Mean review score - this is the **MEAN SCORE**\n",
    "2. Total number of reviews/check-ins - this is the **VISITS** number\n",
    "\n",
    "The other features are:\n",
    "- **NAME**\n",
    "- venue **TYPE**\n",
    "- **LONGITUDE**\n",
    "- **LATITUDE**"
   ]
  },
  {
   "cell_type": "markdown",
   "id": "ancient-policy",
   "metadata": {},
   "source": [
    "Therefore, the objective is to populate a dataframe, which will look like this:"
   ]
  },
  {
   "cell_type": "code",
   "execution_count": 6,
   "id": "cathedral-machinery",
   "metadata": {},
   "outputs": [
    {
     "data": {
      "text/html": [
       "<div>\n",
       "<style scoped>\n",
       "    .dataframe tbody tr th:only-of-type {\n",
       "        vertical-align: middle;\n",
       "    }\n",
       "\n",
       "    .dataframe tbody tr th {\n",
       "        vertical-align: top;\n",
       "    }\n",
       "\n",
       "    .dataframe thead th {\n",
       "        text-align: right;\n",
       "    }\n",
       "</style>\n",
       "<table border=\"1\" class=\"dataframe\">\n",
       "  <thead>\n",
       "    <tr style=\"text-align: right;\">\n",
       "      <th></th>\n",
       "      <th>Name</th>\n",
       "      <th>Type</th>\n",
       "      <th>Latitude</th>\n",
       "      <th>Longitude</th>\n",
       "      <th>Status</th>\n",
       "      <th>StartDate</th>\n",
       "      <th>EndDate</th>\n",
       "      <th>MeanScore</th>\n",
       "      <th>Visits</th>\n",
       "    </tr>\n",
       "  </thead>\n",
       "  <tbody>\n",
       "    <tr>\n",
       "      <th>0</th>\n",
       "      <td>Example A</td>\n",
       "      <td>Restaurant</td>\n",
       "      <td>52.125</td>\n",
       "      <td>-1.487</td>\n",
       "      <td>ACTIVE</td>\n",
       "      <td>2017-05-04</td>\n",
       "      <td>2021-03-15</td>\n",
       "      <td>4.6</td>\n",
       "      <td>241</td>\n",
       "    </tr>\n",
       "    <tr>\n",
       "      <th>1</th>\n",
       "      <td>Example B</td>\n",
       "      <td>Bar</td>\n",
       "      <td>52.130</td>\n",
       "      <td>-1.975</td>\n",
       "      <td>INACTIVE</td>\n",
       "      <td>2018-10-01</td>\n",
       "      <td>2019-11-30</td>\n",
       "      <td>2.2</td>\n",
       "      <td>148</td>\n",
       "    </tr>\n",
       "  </tbody>\n",
       "</table>\n",
       "</div>"
      ],
      "text/plain": [
       "        Name        Type  Latitude  Longitude    Status  StartDate    EndDate  \\\n",
       "0  Example A  Restaurant    52.125     -1.487    ACTIVE 2017-05-04 2021-03-15   \n",
       "1  Example B         Bar    52.130     -1.975  INACTIVE 2018-10-01 2019-11-30   \n",
       "\n",
       "   MeanScore Visits  \n",
       "0        4.6    241  \n",
       "1        2.2    148  "
      ]
     },
     "execution_count": 6,
     "metadata": {},
     "output_type": "execute_result"
    }
   ],
   "source": [
    "# Code to generate an example dataframe\n",
    "import pandas as pd\n",
    "column_names = ['Name', 'Type', 'Latitude', 'Longitude', 'Status', 'StartDate', 'EndDate', 'MeanScore', 'Visits'] \n",
    "venues = pd.DataFrame(columns=column_names)\n",
    "venues = venues.append({'Name':'Example A', 'Type':'Restaurant', 'Latitude':52.125, 'Longitude':-1.487,\n",
    "                        'Status':'ACTIVE', 'StartDate':pd.Timestamp(2017, 5, 4), 'EndDate':pd.Timestamp(2021, 3, 15),\n",
    "                        'MeanScore': 4.6, 'Visits':241}, ignore_index=True)\n",
    "venues = venues.append({'Name':'Example B', 'Type':'Bar', 'Latitude':52.130, 'Longitude':-1.975,\n",
    "                        'Status':'INACTIVE', 'StartDate':pd.Timestamp(2018, 10, 1), 'EndDate':pd.Timestamp(2019, 11, 30),\n",
    "                        'MeanScore': 2.2, 'Visits':148}, ignore_index=True)\n",
    "venues\n"
   ]
  },
  {
   "cell_type": "markdown",
   "id": "temporal-petroleum",
   "metadata": {},
   "source": [
    "The dataframe above shows two examples of the data that needs to be extraxcted from the Foursquare dataset for Nottingham."
   ]
  }
 ],
 "metadata": {
  "kernelspec": {
   "display_name": "Python 3",
   "language": "python",
   "name": "python3"
  },
  "language_info": {
   "codemirror_mode": {
    "name": "ipython",
    "version": 3
   },
   "file_extension": ".py",
   "mimetype": "text/x-python",
   "name": "python",
   "nbconvert_exporter": "python",
   "pygments_lexer": "ipython3",
   "version": "3.8.8"
  }
 },
 "nbformat": 4,
 "nbformat_minor": 5
}
